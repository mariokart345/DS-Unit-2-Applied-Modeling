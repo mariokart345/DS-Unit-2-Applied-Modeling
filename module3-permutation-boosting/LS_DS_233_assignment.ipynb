{
  "nbformat": 4,
  "nbformat_minor": 0,
  "metadata": {
    "colab": {
      "name": "LS_DS_233_assignment.ipynb",
      "provenance": [],
      "include_colab_link": true
    },
    "kernelspec": {
      "display_name": "Python 3",
      "language": "python",
      "name": "python3"
    },
    "language_info": {
      "codemirror_mode": {
        "name": "ipython",
        "version": 3
      },
      "file_extension": ".py",
      "mimetype": "text/x-python",
      "name": "python",
      "nbconvert_exporter": "python",
      "pygments_lexer": "ipython3",
      "version": "3.8.5"
    }
  },
  "cells": [
    {
      "cell_type": "markdown",
      "metadata": {
        "id": "view-in-github",
        "colab_type": "text"
      },
      "source": [
        "<a href=\"https://colab.research.google.com/github/mariokart345/DS-Unit-2-Applied-Modeling/blob/master/module3-permutation-boosting/LS_DS_233_assignment.ipynb\" target=\"_parent\"><img src=\"https://colab.research.google.com/assets/colab-badge.svg\" alt=\"Open In Colab\"/></a>"
      ]
    },
    {
      "cell_type": "markdown",
      "metadata": {
        "id": "nCc3XZEyG3XV"
      },
      "source": [
        "Lambda School Data Science\n",
        "\n",
        "*Unit 2, Sprint 3, Module 3*\n",
        "\n",
        "---\n",
        "\n",
        "\n",
        "# Permutation & Boosting\n",
        "\n",
        "You will use your portfolio project dataset for all assignments this sprint.\n",
        "\n",
        "## Assignment\n",
        "\n",
        "Complete these tasks for your project, and document your work.\n",
        "\n",
        "- [ ] If you haven't completed assignment #1, please do so first.\n",
        "- [ ] Continue to clean and explore your data. Make exploratory visualizations.\n",
        "- [ ] Fit a model. Does it beat your baseline? \n",
        "- [ ] Try xgboost.\n",
        "- [ ] Get your model's permutation importances.\n",
        "\n",
        "You should try to complete an initial model today, because the rest of the week, we're making model interpretation visualizations.\n",
        "\n",
        "But, if you aren't ready to try xgboost and permutation importances with your dataset today, that's okay. You can practice with another dataset instead. You may choose any dataset you've worked with previously.\n",
        "\n",
        "The data subdirectory includes the Titanic dataset for classification and the NYC apartments dataset for regression. You may want to choose one of these datasets, because example solutions will be available for each.\n",
        "\n",
        "\n",
        "## Reading\n",
        "\n",
        "Top recommendations in _**bold italic:**_\n",
        "\n",
        "#### Permutation Importances\n",
        "- _**[Kaggle / Dan Becker: Machine Learning Explainability](https://www.kaggle.com/dansbecker/permutation-importance)**_\n",
        "- [Christoph Molnar: Interpretable Machine Learning](https://christophm.github.io/interpretable-ml-book/feature-importance.html)\n",
        "\n",
        "#### (Default) Feature Importances\n",
        "  - [Ando Saabas: Selecting good features, Part 3, Random Forests](https://blog.datadive.net/selecting-good-features-part-iii-random-forests/)\n",
        "  - [Terence Parr, et al: Beware Default Random Forest Importances](https://explained.ai/rf-importance/index.html)\n",
        "\n",
        "#### Gradient Boosting\n",
        "  - [A Gentle Introduction to the Gradient Boosting Algorithm for Machine Learning](https://machinelearningmastery.com/gentle-introduction-gradient-boosting-algorithm-machine-learning/)\n",
        "  - [An Introduction to Statistical Learning](http://www-bcf.usc.edu/~gareth/ISL/ISLR%20Seventh%20Printing.pdf), Chapter 8\n",
        "  - _**[Gradient Boosting Explained](https://www.gormanalysis.com/blog/gradient-boosting-explained/)**_ — Ben Gorman\n",
        "  - [Gradient Boosting Explained](http://arogozhnikov.github.io/2016/06/24/gradient_boosting_explained.html) — Alex Rogozhnikov\n",
        "  - [How to explain gradient boosting](https://explained.ai/gradient-boosting/) — Terence Parr & Jeremy Howard"
      ]
    },
    {
      "cell_type": "code",
      "metadata": {
        "colab": {
          "base_uri": "https://localhost:8080/"
        },
        "id": "_7nIeCgtKWzY",
        "scrolled": true,
        "outputId": "3a84b7d7-62bf-423f-f8e6-921b21e4fa9c"
      },
      "source": [
        "!pip install category_encoders==2.*\n",
        "!pip install pandas_profiling==2.*\n",
        "!pip install eli5\n",
        "data = 'https://raw.githubusercontent.com/mariokart345/DS-Unit-2-Applied-Modeling/master/data/Video_Games_Sales_as_at_22_Dec_2016.csv'"
      ],
      "execution_count": null,
      "outputs": [
        {
          "output_type": "stream",
          "text": [
            "Requirement already satisfied: category_encoders==2.* in c:\\users\\slade\\anaconda3\\lib\\site-packages (2.2.2)\n",
            "Requirement already satisfied: statsmodels>=0.9.0 in c:\\users\\slade\\anaconda3\\lib\\site-packages (from category_encoders==2.*) (0.12.0)\n",
            "Requirement already satisfied: patsy>=0.5.1 in c:\\users\\slade\\anaconda3\\lib\\site-packages (from category_encoders==2.*) (0.5.1)\n",
            "Requirement already satisfied: scipy>=1.0.0 in c:\\users\\slade\\anaconda3\\lib\\site-packages (from category_encoders==2.*) (1.5.2)\n",
            "Requirement already satisfied: pandas>=0.21.1 in c:\\users\\slade\\anaconda3\\lib\\site-packages (from category_encoders==2.*) (1.1.3)\n",
            "Requirement already satisfied: scikit-learn>=0.20.0 in c:\\users\\slade\\anaconda3\\lib\\site-packages (from category_encoders==2.*) (0.23.2)\n",
            "Requirement already satisfied: numpy>=1.14.0 in c:\\users\\slade\\anaconda3\\lib\\site-packages (from category_encoders==2.*) (1.19.2)\n",
            "Requirement already satisfied: six in c:\\users\\slade\\anaconda3\\lib\\site-packages (from patsy>=0.5.1->category_encoders==2.*) (1.15.0)\n",
            "Requirement already satisfied: python-dateutil>=2.7.3 in c:\\users\\slade\\anaconda3\\lib\\site-packages (from pandas>=0.21.1->category_encoders==2.*) (2.8.1)\n",
            "Requirement already satisfied: pytz>=2017.2 in c:\\users\\slade\\anaconda3\\lib\\site-packages (from pandas>=0.21.1->category_encoders==2.*) (2020.1)\n",
            "Requirement already satisfied: joblib>=0.11 in c:\\users\\slade\\anaconda3\\lib\\site-packages (from scikit-learn>=0.20.0->category_encoders==2.*) (0.17.0)\n",
            "Requirement already satisfied: threadpoolctl>=2.0.0 in c:\\users\\slade\\anaconda3\\lib\\site-packages (from scikit-learn>=0.20.0->category_encoders==2.*) (2.1.0)\n",
            "Requirement already satisfied: pandas_profiling==2.* in c:\\users\\slade\\anaconda3\\lib\\site-packages (2.10.1)\n",
            "Requirement already satisfied: visions[type_image_path]==0.6.0 in c:\\users\\slade\\anaconda3\\lib\\site-packages (from pandas_profiling==2.*) (0.6.0)\n",
            "Requirement already satisfied: joblib in c:\\users\\slade\\anaconda3\\lib\\site-packages (from pandas_profiling==2.*) (0.17.0)\n",
            "Requirement already satisfied: requests>=2.24.0 in c:\\users\\slade\\anaconda3\\lib\\site-packages (from pandas_profiling==2.*) (2.24.0)\n",
            "Requirement already satisfied: missingno>=0.4.2 in c:\\users\\slade\\anaconda3\\lib\\site-packages (from pandas_profiling==2.*) (0.4.2)\n",
            "Requirement already satisfied: phik>=0.10.0 in c:\\users\\slade\\anaconda3\\lib\\site-packages (from pandas_profiling==2.*) (0.11.0)\n",
            "Requirement already satisfied: seaborn>=0.10.1 in c:\\users\\slade\\anaconda3\\lib\\site-packages (from pandas_profiling==2.*) (0.11.0)\n",
            "Requirement already satisfied: ipywidgets>=7.5.1 in c:\\users\\slade\\anaconda3\\lib\\site-packages (from pandas_profiling==2.*) (7.5.1)\n",
            "Requirement already satisfied: attrs>=19.3.0 in c:\\users\\slade\\anaconda3\\lib\\site-packages (from pandas_profiling==2.*) (20.3.0)\n",
            "Requirement already satisfied: pandas!=1.0.0,!=1.0.1,!=1.0.2,!=1.1.0,>=0.25.3 in c:\\users\\slade\\anaconda3\\lib\\site-packages (from pandas_profiling==2.*) (1.1.3)\n",
            "Requirement already satisfied: tqdm>=4.48.2 in c:\\users\\slade\\anaconda3\\lib\\site-packages (from pandas_profiling==2.*) (4.50.2)\n",
            "Requirement already satisfied: numpy>=1.16.0 in c:\\users\\slade\\anaconda3\\lib\\site-packages (from pandas_profiling==2.*) (1.19.2)\n",
            "Requirement already satisfied: scipy>=1.4.1 in c:\\users\\slade\\anaconda3\\lib\\site-packages (from pandas_profiling==2.*) (1.5.2)\n",
            "Requirement already satisfied: jinja2>=2.11.1 in c:\\users\\slade\\anaconda3\\lib\\site-packages (from pandas_profiling==2.*) (2.11.2)\n",
            "Requirement already satisfied: tangled-up-in-unicode>=0.0.6 in c:\\users\\slade\\anaconda3\\lib\\site-packages (from pandas_profiling==2.*) (0.0.6)\n",
            "Requirement already satisfied: matplotlib>=3.2.0 in c:\\users\\slade\\anaconda3\\lib\\site-packages (from pandas_profiling==2.*) (3.3.2)\n",
            "Requirement already satisfied: htmlmin>=0.1.12 in c:\\users\\slade\\anaconda3\\lib\\site-packages (from pandas_profiling==2.*) (0.1.12)\n",
            "Requirement already satisfied: confuse>=1.0.0 in c:\\users\\slade\\anaconda3\\lib\\site-packages (from pandas_profiling==2.*) (1.4.0)\n",
            "Requirement already satisfied: networkx>=2.4 in c:\\users\\slade\\anaconda3\\lib\\site-packages (from visions[type_image_path]==0.6.0->pandas_profiling==2.*) (2.5)\n",
            "Requirement already satisfied: imagehash; extra == \"type_image_path\" in c:\\users\\slade\\anaconda3\\lib\\site-packages (from visions[type_image_path]==0.6.0->pandas_profiling==2.*) (4.2.0)\n",
            "Requirement already satisfied: Pillow; extra == \"type_image_path\" in c:\\users\\slade\\anaconda3\\lib\\site-packages (from visions[type_image_path]==0.6.0->pandas_profiling==2.*) (8.0.1)\n",
            "Requirement already satisfied: urllib3!=1.25.0,!=1.25.1,<1.26,>=1.21.1 in c:\\users\\slade\\anaconda3\\lib\\site-packages (from requests>=2.24.0->pandas_profiling==2.*) (1.25.11)\n",
            "Requirement already satisfied: idna<3,>=2.5 in c:\\users\\slade\\anaconda3\\lib\\site-packages (from requests>=2.24.0->pandas_profiling==2.*) (2.10)\n",
            "Requirement already satisfied: chardet<4,>=3.0.2 in c:\\users\\slade\\anaconda3\\lib\\site-packages (from requests>=2.24.0->pandas_profiling==2.*) (3.0.4)\n",
            "Requirement already satisfied: certifi>=2017.4.17 in c:\\users\\slade\\anaconda3\\lib\\site-packages (from requests>=2.24.0->pandas_profiling==2.*) (2020.6.20)\n",
            "Requirement already satisfied: numba>=0.38.1 in c:\\users\\slade\\anaconda3\\lib\\site-packages (from phik>=0.10.0->pandas_profiling==2.*) (0.51.2)\n",
            "Requirement already satisfied: ipykernel>=4.5.1 in c:\\users\\slade\\anaconda3\\lib\\site-packages (from ipywidgets>=7.5.1->pandas_profiling==2.*) (5.3.4)\n",
            "Requirement already satisfied: traitlets>=4.3.1 in c:\\users\\slade\\anaconda3\\lib\\site-packages (from ipywidgets>=7.5.1->pandas_profiling==2.*) (5.0.5)\n",
            "Requirement already satisfied: widgetsnbextension~=3.5.0 in c:\\users\\slade\\anaconda3\\lib\\site-packages (from ipywidgets>=7.5.1->pandas_profiling==2.*) (3.5.1)\n",
            "Requirement already satisfied: ipython>=4.0.0; python_version >= \"3.3\" in c:\\users\\slade\\anaconda3\\lib\\site-packages (from ipywidgets>=7.5.1->pandas_profiling==2.*) (7.19.0)\n",
            "Requirement already satisfied: nbformat>=4.2.0 in c:\\users\\slade\\anaconda3\\lib\\site-packages (from ipywidgets>=7.5.1->pandas_profiling==2.*) (5.0.8)\n",
            "Requirement already satisfied: pytz>=2017.2 in c:\\users\\slade\\anaconda3\\lib\\site-packages (from pandas!=1.0.0,!=1.0.1,!=1.0.2,!=1.1.0,>=0.25.3->pandas_profiling==2.*) (2020.1)\n",
            "Requirement already satisfied: python-dateutil>=2.7.3 in c:\\users\\slade\\anaconda3\\lib\\site-packages (from pandas!=1.0.0,!=1.0.1,!=1.0.2,!=1.1.0,>=0.25.3->pandas_profiling==2.*) (2.8.1)\n",
            "Requirement already satisfied: MarkupSafe>=0.23 in c:\\users\\slade\\anaconda3\\lib\\site-packages (from jinja2>=2.11.1->pandas_profiling==2.*) (1.1.1)\n",
            "Requirement already satisfied: cycler>=0.10 in c:\\users\\slade\\anaconda3\\lib\\site-packages (from matplotlib>=3.2.0->pandas_profiling==2.*) (0.10.0)\n",
            "Requirement already satisfied: pyparsing!=2.0.4,!=2.1.2,!=2.1.6,>=2.0.3 in c:\\users\\slade\\anaconda3\\lib\\site-packages (from matplotlib>=3.2.0->pandas_profiling==2.*) (2.4.7)\n",
            "Requirement already satisfied: kiwisolver>=1.0.1 in c:\\users\\slade\\anaconda3\\lib\\site-packages (from matplotlib>=3.2.0->pandas_profiling==2.*) (1.3.0)\n",
            "Requirement already satisfied: pyyaml in c:\\users\\slade\\anaconda3\\lib\\site-packages (from confuse>=1.0.0->pandas_profiling==2.*) (5.3.1)\n",
            "Requirement already satisfied: decorator>=4.3.0 in c:\\users\\slade\\anaconda3\\lib\\site-packages (from networkx>=2.4->visions[type_image_path]==0.6.0->pandas_profiling==2.*) (4.4.2)\n",
            "Requirement already satisfied: PyWavelets in c:\\users\\slade\\anaconda3\\lib\\site-packages (from imagehash; extra == \"type_image_path\"->visions[type_image_path]==0.6.0->pandas_profiling==2.*) (1.1.1)\n",
            "Requirement already satisfied: six in c:\\users\\slade\\anaconda3\\lib\\site-packages (from imagehash; extra == \"type_image_path\"->visions[type_image_path]==0.6.0->pandas_profiling==2.*) (1.15.0)\n",
            "Requirement already satisfied: llvmlite<0.35,>=0.34.0.dev0 in c:\\users\\slade\\anaconda3\\lib\\site-packages (from numba>=0.38.1->phik>=0.10.0->pandas_profiling==2.*) (0.34.0)\n",
            "Requirement already satisfied: setuptools in c:\\users\\slade\\anaconda3\\lib\\site-packages (from numba>=0.38.1->phik>=0.10.0->pandas_profiling==2.*) (50.3.1.post20201107)\n",
            "Requirement already satisfied: tornado>=4.2 in c:\\users\\slade\\anaconda3\\lib\\site-packages (from ipykernel>=4.5.1->ipywidgets>=7.5.1->pandas_profiling==2.*) (6.0.4)\n",
            "Requirement already satisfied: jupyter-client in c:\\users\\slade\\anaconda3\\lib\\site-packages (from ipykernel>=4.5.1->ipywidgets>=7.5.1->pandas_profiling==2.*) (6.1.7)\n",
            "Requirement already satisfied: ipython-genutils in c:\\users\\slade\\anaconda3\\lib\\site-packages (from traitlets>=4.3.1->ipywidgets>=7.5.1->pandas_profiling==2.*) (0.2.0)\n",
            "Requirement already satisfied: notebook>=4.4.1 in c:\\users\\slade\\anaconda3\\lib\\site-packages (from widgetsnbextension~=3.5.0->ipywidgets>=7.5.1->pandas_profiling==2.*) (6.1.4)\n",
            "Requirement already satisfied: pygments in c:\\users\\slade\\anaconda3\\lib\\site-packages (from ipython>=4.0.0; python_version >= \"3.3\"->ipywidgets>=7.5.1->pandas_profiling==2.*) (2.7.2)\n",
            "Requirement already satisfied: pickleshare in c:\\users\\slade\\anaconda3\\lib\\site-packages (from ipython>=4.0.0; python_version >= \"3.3\"->ipywidgets>=7.5.1->pandas_profiling==2.*) (0.7.5)\n",
            "Requirement already satisfied: colorama; sys_platform == \"win32\" in c:\\users\\slade\\anaconda3\\lib\\site-packages (from ipython>=4.0.0; python_version >= \"3.3\"->ipywidgets>=7.5.1->pandas_profiling==2.*) (0.4.4)\n",
            "Requirement already satisfied: prompt-toolkit!=3.0.0,!=3.0.1,<3.1.0,>=2.0.0 in c:\\users\\slade\\anaconda3\\lib\\site-packages (from ipython>=4.0.0; python_version >= \"3.3\"->ipywidgets>=7.5.1->pandas_profiling==2.*) (3.0.8)\n",
            "Requirement already satisfied: backcall in c:\\users\\slade\\anaconda3\\lib\\site-packages (from ipython>=4.0.0; python_version >= \"3.3\"->ipywidgets>=7.5.1->pandas_profiling==2.*) (0.2.0)\n",
            "Requirement already satisfied: jedi>=0.10 in c:\\users\\slade\\anaconda3\\lib\\site-packages (from ipython>=4.0.0; python_version >= \"3.3\"->ipywidgets>=7.5.1->pandas_profiling==2.*) (0.17.1)\n",
            "Requirement already satisfied: jupyter-core in c:\\users\\slade\\anaconda3\\lib\\site-packages (from nbformat>=4.2.0->ipywidgets>=7.5.1->pandas_profiling==2.*) (4.6.3)\n",
            "Requirement already satisfied: jsonschema!=2.5.0,>=2.4 in c:\\users\\slade\\anaconda3\\lib\\site-packages (from nbformat>=4.2.0->ipywidgets>=7.5.1->pandas_profiling==2.*) (3.2.0)\n",
            "Requirement already satisfied: pyzmq>=13 in c:\\users\\slade\\anaconda3\\lib\\site-packages (from jupyter-client->ipykernel>=4.5.1->ipywidgets>=7.5.1->pandas_profiling==2.*) (19.0.2)\n",
            "Requirement already satisfied: prometheus-client in c:\\users\\slade\\anaconda3\\lib\\site-packages (from notebook>=4.4.1->widgetsnbextension~=3.5.0->ipywidgets>=7.5.1->pandas_profiling==2.*) (0.8.0)\n",
            "Requirement already satisfied: nbconvert in c:\\users\\slade\\anaconda3\\lib\\site-packages (from notebook>=4.4.1->widgetsnbextension~=3.5.0->ipywidgets>=7.5.1->pandas_profiling==2.*) (6.0.7)\n",
            "Requirement already satisfied: terminado>=0.8.3 in c:\\users\\slade\\anaconda3\\lib\\site-packages (from notebook>=4.4.1->widgetsnbextension~=3.5.0->ipywidgets>=7.5.1->pandas_profiling==2.*) (0.9.1)\n",
            "Requirement already satisfied: Send2Trash in c:\\users\\slade\\anaconda3\\lib\\site-packages (from notebook>=4.4.1->widgetsnbextension~=3.5.0->ipywidgets>=7.5.1->pandas_profiling==2.*) (1.5.0)\n",
            "Requirement already satisfied: argon2-cffi in c:\\users\\slade\\anaconda3\\lib\\site-packages (from notebook>=4.4.1->widgetsnbextension~=3.5.0->ipywidgets>=7.5.1->pandas_profiling==2.*) (20.1.0)\n",
            "Requirement already satisfied: wcwidth in c:\\users\\slade\\anaconda3\\lib\\site-packages (from prompt-toolkit!=3.0.0,!=3.0.1,<3.1.0,>=2.0.0->ipython>=4.0.0; python_version >= \"3.3\"->ipywidgets>=7.5.1->pandas_profiling==2.*) (0.2.5)\n",
            "Requirement already satisfied: parso<0.8.0,>=0.7.0 in c:\\users\\slade\\anaconda3\\lib\\site-packages (from jedi>=0.10->ipython>=4.0.0; python_version >= \"3.3\"->ipywidgets>=7.5.1->pandas_profiling==2.*) (0.7.0)\n",
            "Requirement already satisfied: pywin32>=1.0; sys_platform == \"win32\" in c:\\users\\slade\\anaconda3\\lib\\site-packages (from jupyter-core->nbformat>=4.2.0->ipywidgets>=7.5.1->pandas_profiling==2.*) (227)\n",
            "Requirement already satisfied: pyrsistent>=0.14.0 in c:\\users\\slade\\anaconda3\\lib\\site-packages (from jsonschema!=2.5.0,>=2.4->nbformat>=4.2.0->ipywidgets>=7.5.1->pandas_profiling==2.*) (0.17.3)\n",
            "Requirement already satisfied: testpath in c:\\users\\slade\\anaconda3\\lib\\site-packages (from nbconvert->notebook>=4.4.1->widgetsnbextension~=3.5.0->ipywidgets>=7.5.1->pandas_profiling==2.*) (0.4.4)\n",
            "Requirement already satisfied: mistune<2,>=0.8.1 in c:\\users\\slade\\anaconda3\\lib\\site-packages (from nbconvert->notebook>=4.4.1->widgetsnbextension~=3.5.0->ipywidgets>=7.5.1->pandas_profiling==2.*) (0.8.4)\n",
            "Requirement already satisfied: pandocfilters>=1.4.1 in c:\\users\\slade\\anaconda3\\lib\\site-packages (from nbconvert->notebook>=4.4.1->widgetsnbextension~=3.5.0->ipywidgets>=7.5.1->pandas_profiling==2.*) (1.4.3)\n",
            "Requirement already satisfied: entrypoints>=0.2.2 in c:\\users\\slade\\anaconda3\\lib\\site-packages (from nbconvert->notebook>=4.4.1->widgetsnbextension~=3.5.0->ipywidgets>=7.5.1->pandas_profiling==2.*) (0.3)\n",
            "Requirement already satisfied: defusedxml in c:\\users\\slade\\anaconda3\\lib\\site-packages (from nbconvert->notebook>=4.4.1->widgetsnbextension~=3.5.0->ipywidgets>=7.5.1->pandas_profiling==2.*) (0.6.0)\n",
            "Requirement already satisfied: jupyterlab-pygments in c:\\users\\slade\\anaconda3\\lib\\site-packages (from nbconvert->notebook>=4.4.1->widgetsnbextension~=3.5.0->ipywidgets>=7.5.1->pandas_profiling==2.*) (0.1.2)\n",
            "Requirement already satisfied: bleach in c:\\users\\slade\\anaconda3\\lib\\site-packages (from nbconvert->notebook>=4.4.1->widgetsnbextension~=3.5.0->ipywidgets>=7.5.1->pandas_profiling==2.*) (3.2.1)\n",
            "Requirement already satisfied: nbclient<0.6.0,>=0.5.0 in c:\\users\\slade\\anaconda3\\lib\\site-packages (from nbconvert->notebook>=4.4.1->widgetsnbextension~=3.5.0->ipywidgets>=7.5.1->pandas_profiling==2.*) (0.5.1)\n",
            "Requirement already satisfied: pywinpty>=0.5 in c:\\users\\slade\\anaconda3\\lib\\site-packages (from terminado>=0.8.3->notebook>=4.4.1->widgetsnbextension~=3.5.0->ipywidgets>=7.5.1->pandas_profiling==2.*) (0.5.7)\n",
            "Requirement already satisfied: cffi>=1.0.0 in c:\\users\\slade\\anaconda3\\lib\\site-packages (from argon2-cffi->notebook>=4.4.1->widgetsnbextension~=3.5.0->ipywidgets>=7.5.1->pandas_profiling==2.*) (1.14.3)\n",
            "Requirement already satisfied: webencodings in c:\\users\\slade\\anaconda3\\lib\\site-packages (from bleach->nbconvert->notebook>=4.4.1->widgetsnbextension~=3.5.0->ipywidgets>=7.5.1->pandas_profiling==2.*) (0.5.1)\n",
            "Requirement already satisfied: packaging in c:\\users\\slade\\anaconda3\\lib\\site-packages (from bleach->nbconvert->notebook>=4.4.1->widgetsnbextension~=3.5.0->ipywidgets>=7.5.1->pandas_profiling==2.*) (20.4)\n",
            "Requirement already satisfied: nest-asyncio in c:\\users\\slade\\anaconda3\\lib\\site-packages (from nbclient<0.6.0,>=0.5.0->nbconvert->notebook>=4.4.1->widgetsnbextension~=3.5.0->ipywidgets>=7.5.1->pandas_profiling==2.*) (1.4.2)\n",
            "Requirement already satisfied: async-generator in c:\\users\\slade\\anaconda3\\lib\\site-packages (from nbclient<0.6.0,>=0.5.0->nbconvert->notebook>=4.4.1->widgetsnbextension~=3.5.0->ipywidgets>=7.5.1->pandas_profiling==2.*) (1.10)\n",
            "Requirement already satisfied: pycparser in c:\\users\\slade\\anaconda3\\lib\\site-packages (from cffi>=1.0.0->argon2-cffi->notebook>=4.4.1->widgetsnbextension~=3.5.0->ipywidgets>=7.5.1->pandas_profiling==2.*) (2.20)\n"
          ],
          "name": "stdout"
        },
        {
          "output_type": "stream",
          "text": [
            "Requirement already satisfied: eli5 in c:\\users\\slade\\anaconda3\\lib\\site-packages (0.11.0)\n",
            "Requirement already satisfied: attrs>16.0.0 in c:\\users\\slade\\anaconda3\\lib\\site-packages (from eli5) (20.3.0)\n",
            "Requirement already satisfied: jinja2 in c:\\users\\slade\\anaconda3\\lib\\site-packages (from eli5) (2.11.2)\n",
            "Requirement already satisfied: tabulate>=0.7.7 in c:\\users\\slade\\anaconda3\\lib\\site-packages (from eli5) (0.8.7)\n",
            "Requirement already satisfied: scipy in c:\\users\\slade\\anaconda3\\lib\\site-packages (from eli5) (1.5.2)\n",
            "Requirement already satisfied: six in c:\\users\\slade\\anaconda3\\lib\\site-packages (from eli5) (1.15.0)\n",
            "Requirement already satisfied: numpy>=1.9.0 in c:\\users\\slade\\anaconda3\\lib\\site-packages (from eli5) (1.19.2)\n",
            "Requirement already satisfied: scikit-learn>=0.20 in c:\\users\\slade\\anaconda3\\lib\\site-packages (from eli5) (0.23.2)\n",
            "Requirement already satisfied: graphviz in c:\\users\\slade\\anaconda3\\lib\\site-packages (from eli5) (0.16)\n",
            "Requirement already satisfied: MarkupSafe>=0.23 in c:\\users\\slade\\anaconda3\\lib\\site-packages (from jinja2->eli5) (1.1.1)\n",
            "Requirement already satisfied: threadpoolctl>=2.0.0 in c:\\users\\slade\\anaconda3\\lib\\site-packages (from scikit-learn>=0.20->eli5) (2.1.0)\n",
            "Requirement already satisfied: joblib>=0.11 in c:\\users\\slade\\anaconda3\\lib\\site-packages (from scikit-learn>=0.20->eli5) (0.17.0)\n"
          ],
          "name": "stdout"
        }
      ]
    },
    {
      "cell_type": "code",
      "metadata": {
        "id": "oDujH4RKMXvZ"
      },
      "source": [
        "import pandas as pd\n",
        "df = pd.read_csv(data)"
      ],
      "execution_count": null,
      "outputs": []
    },
    {
      "cell_type": "code",
      "metadata": {
        "id": "IZ_GJnh_NGMw"
      },
      "source": [
        "import numpy as np\n",
        "def wrangle(df):\n",
        "    #Engineering features\n",
        "    df['Above_Average_Critic_Score'] = df['Critic_Score']>70\n",
        "    df['User_Score'] = df['User_Score'].replace('tbd',np.NaN,regex=True)\n",
        "    df['User_Score'] = df['User_Score'].astype(float)\n",
        "    df['Above_Average_User_Score'] = df['User_Score']>7\n",
        "    #Dropping really high variance\n",
        "    df = df.drop(labels=['Name','Developer'],axis=1)\n",
        "    #Dropping high NaN columns\n",
        "    df = df.drop(labels=['Rating','User_Count','User_Score','Critic_Count','Critic_Score'],axis=1)\n",
        "    #Using log function to created a less skewed distribution\n",
        "    df['Log_Global_Sales'] = np.log1p(df['Global_Sales'])\n",
        "    #Dropping Sales columns to prevent leakage\n",
        "    df = df.drop(labels=['NA_Sales','EU_Sales','JP_Sales','Other_Sales','Global_Sales'],axis=1)\n",
        "    #Converting 'Year_of_Release' to pandas datetime\n",
        "    df['Year_of_Release'] = pd.to_datetime(df['Year_of_Release'],format='%Y')\n",
        "    df['Year_of_Release'] = df['Year_of_Release'].dt.year\n",
        "    #Removing upper and lower .5 percentile\n",
        "    df = df[(df['Log_Global_Sales'] >= np.percentile(df['Log_Global_Sales'], 0.5)) & (df['Log_Global_Sales'] <= np.percentile(df['Log_Global_Sales'], 99.5))]\n",
        "    return df"
      ],
      "execution_count": null,
      "outputs": []
    },
    {
      "cell_type": "code",
      "metadata": {
        "id": "yUY1atbXNQEJ"
      },
      "source": [
        "game_sales = wrangle(df)"
      ],
      "execution_count": null,
      "outputs": []
    },
    {
      "cell_type": "code",
      "metadata": {
        "scrolled": true,
        "id": "lqZ1wXAchIOB",
        "outputId": "b59897da-590e-40bb-b787-0f8a1ace418a"
      },
      "source": [
        "game_sales.head()"
      ],
      "execution_count": null,
      "outputs": [
        {
          "output_type": "execute_result",
          "data": {
            "text/html": [
              "<div>\n",
              "<style scoped>\n",
              "    .dataframe tbody tr th:only-of-type {\n",
              "        vertical-align: middle;\n",
              "    }\n",
              "\n",
              "    .dataframe tbody tr th {\n",
              "        vertical-align: top;\n",
              "    }\n",
              "\n",
              "    .dataframe thead th {\n",
              "        text-align: right;\n",
              "    }\n",
              "</style>\n",
              "<table border=\"1\" class=\"dataframe\">\n",
              "  <thead>\n",
              "    <tr style=\"text-align: right;\">\n",
              "      <th></th>\n",
              "      <th>Platform</th>\n",
              "      <th>Year_of_Release</th>\n",
              "      <th>Genre</th>\n",
              "      <th>Publisher</th>\n",
              "      <th>Above_Average_Critic_Score</th>\n",
              "      <th>Above_Average_User_Score</th>\n",
              "      <th>Log_Global_Sales</th>\n",
              "    </tr>\n",
              "  </thead>\n",
              "  <tbody>\n",
              "    <tr>\n",
              "      <th>84</th>\n",
              "      <td>PS2</td>\n",
              "      <td>2001.0</td>\n",
              "      <td>Role-Playing</td>\n",
              "      <td>Sony Computer Entertainment</td>\n",
              "      <td>True</td>\n",
              "      <td>True</td>\n",
              "      <td>2.202765</td>\n",
              "    </tr>\n",
              "    <tr>\n",
              "      <th>85</th>\n",
              "      <td>PC</td>\n",
              "      <td>2009.0</td>\n",
              "      <td>Simulation</td>\n",
              "      <td>Electronic Arts</td>\n",
              "      <td>True</td>\n",
              "      <td>True</td>\n",
              "      <td>2.198335</td>\n",
              "    </tr>\n",
              "    <tr>\n",
              "      <th>86</th>\n",
              "      <td>Wii</td>\n",
              "      <td>2007.0</td>\n",
              "      <td>Sports</td>\n",
              "      <td>Sega</td>\n",
              "      <td>False</td>\n",
              "      <td>False</td>\n",
              "      <td>2.196113</td>\n",
              "    </tr>\n",
              "    <tr>\n",
              "      <th>87</th>\n",
              "      <td>PS4</td>\n",
              "      <td>2015.0</td>\n",
              "      <td>Shooter</td>\n",
              "      <td>Electronic Arts</td>\n",
              "      <td>False</td>\n",
              "      <td>False</td>\n",
              "      <td>2.195000</td>\n",
              "    </tr>\n",
              "    <tr>\n",
              "      <th>88</th>\n",
              "      <td>PS</td>\n",
              "      <td>1999.0</td>\n",
              "      <td>Role-Playing</td>\n",
              "      <td>SquareSoft</td>\n",
              "      <td>True</td>\n",
              "      <td>True</td>\n",
              "      <td>2.181547</td>\n",
              "    </tr>\n",
              "  </tbody>\n",
              "</table>\n",
              "</div>"
            ],
            "text/plain": [
              "   Platform  Year_of_Release         Genre                    Publisher  \\\n",
              "84      PS2           2001.0  Role-Playing  Sony Computer Entertainment   \n",
              "85       PC           2009.0    Simulation              Electronic Arts   \n",
              "86      Wii           2007.0        Sports                         Sega   \n",
              "87      PS4           2015.0       Shooter              Electronic Arts   \n",
              "88       PS           1999.0  Role-Playing                   SquareSoft   \n",
              "\n",
              "    Above_Average_Critic_Score  Above_Average_User_Score  Log_Global_Sales  \n",
              "84                        True                      True          2.202765  \n",
              "85                        True                      True          2.198335  \n",
              "86                       False                     False          2.196113  \n",
              "87                       False                     False          2.195000  \n",
              "88                        True                      True          2.181547  "
            ]
          },
          "metadata": {
            "tags": []
          },
          "execution_count": 12
        }
      ]
    },
    {
      "cell_type": "code",
      "metadata": {
        "id": "moYKX-HlNQYZ"
      },
      "source": [
        "from sklearn.model_selection import train_test_split\n",
        "train,val = train_test_split(game_sales,train_size=0.8,test_size=0.2,random_state=25)\n",
        "#Dropping 'Global_Sales' to prevent leakage and splitting into features and target\n",
        "y_train = train['Log_Global_Sales']\n",
        "X_train = train.drop('Log_Global_Sales',axis=1)\n",
        "y_val = val['Log_Global_Sales']\n",
        "X_val = val.drop('Log_Global_Sales',axis=1)"
      ],
      "execution_count": null,
      "outputs": []
    },
    {
      "cell_type": "code",
      "metadata": {
        "collapsed": true,
        "id": "843WIV9HP-2z",
        "outputId": "a2240728-6ce0-492d-929a-0aa74dc1afb8"
      },
      "source": [
        "import category_encoders as ce\n",
        "from sklearn.impute import SimpleImputer\n",
        "from sklearn.linear_model import LinearRegression\n",
        "from sklearn.pipeline import make_pipeline\n",
        "pipeline = make_pipeline(ce.OrdinalEncoder(),SimpleImputer(strategy='mean'),LinearRegression())\n",
        "pipeline.fit(X_train,y_train)"
      ],
      "execution_count": null,
      "outputs": [
        {
          "output_type": "execute_result",
          "data": {
            "text/plain": [
              "Pipeline(steps=[('ordinalencoder',\n",
              "                 OrdinalEncoder(cols=['Platform', 'Genre', 'Publisher'],\n",
              "                                mapping=[{'col': 'Platform',\n",
              "                                          'data_type': dtype('O'),\n",
              "                                          'mapping': GBA      1\n",
              "PS3      2\n",
              "PS       3\n",
              "X360     4\n",
              "PSP      5\n",
              "PS2      6\n",
              "DS       7\n",
              "SNES     8\n",
              "XB       9\n",
              "PSV     10\n",
              "PS4     11\n",
              "PC      12\n",
              "3DS     13\n",
              "2600    14\n",
              "GB      15\n",
              "SAT     16\n",
              "Wii     17\n",
              "GC      18\n",
              "WiiU    19\n",
              "GEN     20\n",
              "N64     21\n",
              "XOne    22\n",
              "NES     23\n",
              "PCFX    24\n",
              "DC      25\n",
              "SCD     26\n",
              "NG      27\n",
              "3DO     28\n",
              "TG16    29\n",
              "WS      30\n",
              "GG      31\n",
              "NaN     -2\n",
              "dtype: int64},\n",
              "                                         {'col': 'Genre',\n",
              "                                          'data_type': dtype('O'),\n",
              "                                          'map...\n",
              "Racing           8\n",
              "Platform         9\n",
              "Sports          10\n",
              "Strategy        11\n",
              "Shooter         12\n",
              "NaN             13\n",
              "dtype: int64},\n",
              "                                         {'col': 'Publisher',\n",
              "                                          'data_type': dtype('O'),\n",
              "                                          'mapping': NaN                              1\n",
              "Tecmo Koei                       2\n",
              "Electronic Arts                  3\n",
              "Prototype                        4\n",
              "Sony Computer Entertainment      5\n",
              "                              ... \n",
              "Cygames                        545\n",
              "Ecole                          546\n",
              "Panther Software               547\n",
              "Commseed                       548\n",
              "Interchannel-Holon             549\n",
              "Length: 549, dtype: int64}])),\n",
              "                ('simpleimputer', SimpleImputer()),\n",
              "                ('linearregression', LinearRegression())])"
            ]
          },
          "metadata": {
            "tags": []
          },
          "execution_count": 38
        }
      ]
    },
    {
      "cell_type": "code",
      "metadata": {
        "colab": {
          "base_uri": "https://localhost:8080/"
        },
        "id": "c3MjT6gETeB0",
        "scrolled": true,
        "outputId": "a10e683c-9c7c-4c8e-c73a-1a1ec13699cc"
      },
      "source": [
        "from sklearn.metrics import r2_score\n",
        "y_train_pred = pipeline.predict(X_train)\n",
        "y_val_pred = pipeline.predict(X_val)\n",
        "print(f'Training R^2:{r2_score(y_train,y_train_pred)}\\nValidation R^2:{r2_score(y_val,y_val_pred)}')"
      ],
      "execution_count": null,
      "outputs": [
        {
          "output_type": "stream",
          "text": [
            "Training R^2:0.1463618549453095\n",
            "Validation R^2:0.128945881086445\n"
          ],
          "name": "stdout"
        }
      ]
    },
    {
      "cell_type": "markdown",
      "metadata": {
        "id": "-s56aV45hIOC"
      },
      "source": [
        "Changing the problem to Classification through a previously engineered feature as the target"
      ]
    },
    {
      "cell_type": "code",
      "metadata": {
        "id": "Qn4XPz-ShIOD"
      },
      "source": [
        "from sklearn.model_selection import train_test_split\n",
        "train,val = train_test_split(game_sales,train_size=0.8,test_size=0.2,random_state=25)\n",
        "#Dropping 'Global_Sales' to prevent leakage and splitting into features and target\n",
        "y_train = train['Above_Average_User_Score']\n",
        "X_train = train.drop('Above_Average_User_Score',axis=1)\n",
        "y_val = val['Above_Average_User_Score']\n",
        "X_val = val.drop('Above_Average_User_Score',axis=1)"
      ],
      "execution_count": null,
      "outputs": []
    },
    {
      "cell_type": "code",
      "metadata": {
        "id": "vHUQpGDzhIOD",
        "outputId": "b2f0881d-fef1-49b8-c848-07061f1974ba"
      },
      "source": [
        "#Baseline\n",
        "from sklearn.metrics import accuracy_score\n",
        "mean = y_train.mode()[0]\n",
        "y_pred = [mean]*len(y_train)\n",
        "baseline_acc = accuracy_score(y_train,y_pred)\n",
        "print('Baseline Accuracy:', baseline_acc)"
      ],
      "execution_count": null,
      "outputs": [
        {
          "output_type": "stream",
          "text": [
            "Baseline Accuracy: 0.7223474601743313\n"
          ],
          "name": "stdout"
        }
      ]
    },
    {
      "cell_type": "code",
      "metadata": {
        "collapsed": true,
        "id": "bBQnbz50hIOD",
        "outputId": "dfb560e1-2d9c-4dd6-d331-688af14150fd"
      },
      "source": [
        "#Simple Model\n",
        "import category_encoders as ce\n",
        "from sklearn.impute import SimpleImputer\n",
        "from sklearn.ensemble import RandomForestClassifier\n",
        "from sklearn.pipeline import make_pipeline\n",
        "pipeline = make_pipeline(ce.OrdinalEncoder(),SimpleImputer(strategy='mean'),RandomForestClassifier(n_estimators=100, random_state=42, n_jobs=-1))\n",
        "pipeline.fit(X_train,y_train)"
      ],
      "execution_count": null,
      "outputs": [
        {
          "output_type": "execute_result",
          "data": {
            "text/plain": [
              "Pipeline(steps=[('ordinalencoder',\n",
              "                 OrdinalEncoder(cols=['Platform', 'Genre', 'Publisher'],\n",
              "                                mapping=[{'col': 'Platform',\n",
              "                                          'data_type': dtype('O'),\n",
              "                                          'mapping': GBA      1\n",
              "PS3      2\n",
              "PS       3\n",
              "X360     4\n",
              "PSP      5\n",
              "PS2      6\n",
              "DS       7\n",
              "SNES     8\n",
              "XB       9\n",
              "PSV     10\n",
              "PS4     11\n",
              "PC      12\n",
              "3DS     13\n",
              "2600    14\n",
              "GB      15\n",
              "SAT     16\n",
              "Wii     17\n",
              "GC      18\n",
              "WiiU    19\n",
              "GEN     20\n",
              "N64     21\n",
              "XOne    22\n",
              "NES     23\n",
              "PCFX    24\n",
              "DC      25\n",
              "SCD     26\n",
              "NG      27\n",
              "3DO     28\n",
              "TG16    29\n",
              "WS      30\n",
              "GG      31\n",
              "NaN     -2\n",
              "dtype: int64},\n",
              "                                         {'col': 'Genre',\n",
              "                                          'data_type': dtype('O'),\n",
              "                                          'map...\n",
              "Shooter         12\n",
              "NaN             13\n",
              "dtype: int64},\n",
              "                                         {'col': 'Publisher',\n",
              "                                          'data_type': dtype('O'),\n",
              "                                          'mapping': NaN                              1\n",
              "Tecmo Koei                       2\n",
              "Electronic Arts                  3\n",
              "Prototype                        4\n",
              "Sony Computer Entertainment      5\n",
              "                              ... \n",
              "Cygames                        545\n",
              "Ecole                          546\n",
              "Panther Software               547\n",
              "Commseed                       548\n",
              "Interchannel-Holon             549\n",
              "Length: 549, dtype: int64}])),\n",
              "                ('simpleimputer', SimpleImputer()),\n",
              "                ('randomforestclassifier',\n",
              "                 RandomForestClassifier(n_jobs=-1, random_state=42))])"
            ]
          },
          "metadata": {
            "tags": []
          },
          "execution_count": 6
        }
      ]
    },
    {
      "cell_type": "code",
      "metadata": {
        "id": "4m8XjAcThIOE",
        "outputId": "bb668c5f-2d11-4232-c9c0-673c7f17f429"
      },
      "source": [
        "#Mode score is better than the baseline score\n",
        "pipeline.score(X_val,y_val)"
      ],
      "execution_count": null,
      "outputs": [
        {
          "output_type": "execute_result",
          "data": {
            "text/plain": [
              "0.8458070333633905"
            ]
          },
          "metadata": {
            "tags": []
          },
          "execution_count": 7
        }
      ]
    },
    {
      "cell_type": "code",
      "metadata": {
        "id": "iVRiWAfEhIOE",
        "outputId": "7124f41a-9427-42f6-926e-21c25ac2e398"
      },
      "source": [
        "#Transforming data and training new model for Permutation Importance\n",
        "transformers = make_pipeline(ce.OrdinalEncoder(), SimpleImputer(strategy='mean'))\n",
        "X_train_transformed = transformers.fit_transform(X_train)\n",
        "X_val_transformed = transformers.transform(X_val)\n",
        "model = RandomForestClassifier(n_estimators=50, random_state=79, n_jobs=-1)\n",
        "model.fit(X_train_transformed, y_train)\n",
        "#Permutation Importance\n",
        "import eli5\n",
        "from eli5.sklearn import PermutationImportance\n",
        "permuter = PermutationImportance(model,scoring='accuracy',n_iter=10,random_state=76)\n",
        "permuter.fit(X_val_transformed,y_val)\n",
        "feature_names = X_val.columns.to_list()\n",
        "eli5.show_weights(permuter, top=None, feature_names=feature_names)"
      ],
      "execution_count": null,
      "outputs": [
        {
          "output_type": "execute_result",
          "data": {
            "text/html": [
              "\n",
              "    <style>\n",
              "    table.eli5-weights tr:hover {\n",
              "        filter: brightness(85%);\n",
              "    }\n",
              "</style>\n",
              "\n",
              "\n",
              "\n",
              "    \n",
              "\n",
              "    \n",
              "\n",
              "    \n",
              "\n",
              "    \n",
              "\n",
              "    \n",
              "\n",
              "    \n",
              "\n",
              "\n",
              "    \n",
              "\n",
              "    \n",
              "\n",
              "    \n",
              "\n",
              "    \n",
              "\n",
              "    \n",
              "\n",
              "    \n",
              "\n",
              "\n",
              "    \n",
              "\n",
              "    \n",
              "\n",
              "    \n",
              "\n",
              "    \n",
              "\n",
              "    \n",
              "        <table class=\"eli5-weights eli5-feature-importances\" style=\"border-collapse: collapse; border: none; margin-top: 0em; table-layout: auto;\">\n",
              "    <thead>\n",
              "    <tr style=\"border: none;\">\n",
              "        <th style=\"padding: 0 1em 0 0.5em; text-align: right; border: none;\">Weight</th>\n",
              "        <th style=\"padding: 0 0.5em 0 0.5em; text-align: left; border: none;\">Feature</th>\n",
              "    </tr>\n",
              "    </thead>\n",
              "    <tbody>\n",
              "    \n",
              "        <tr style=\"background-color: hsl(120, 100.00%, 80.00%); border: none;\">\n",
              "            <td style=\"padding: 0 1em 0 0.5em; text-align: right; border: none;\">\n",
              "                0.2075\n",
              "                \n",
              "                    &plusmn; 0.0105\n",
              "                \n",
              "            </td>\n",
              "            <td style=\"padding: 0 0.5em 0 0.5em; text-align: left; border: none;\">\n",
              "                Above_Average_Critic_Score\n",
              "            </td>\n",
              "        </tr>\n",
              "    \n",
              "        <tr style=\"background-color: hsl(120, 100.00%, 96.76%); border: none;\">\n",
              "            <td style=\"padding: 0 1em 0 0.5em; text-align: right; border: none;\">\n",
              "                0.0154\n",
              "                \n",
              "                    &plusmn; 0.0038\n",
              "                \n",
              "            </td>\n",
              "            <td style=\"padding: 0 0.5em 0 0.5em; text-align: left; border: none;\">\n",
              "                Log_Global_Sales\n",
              "            </td>\n",
              "        </tr>\n",
              "    \n",
              "        <tr style=\"background-color: hsl(120, 100.00%, 96.87%); border: none;\">\n",
              "            <td style=\"padding: 0 1em 0 0.5em; text-align: right; border: none;\">\n",
              "                0.0147\n",
              "                \n",
              "                    &plusmn; 0.0075\n",
              "                \n",
              "            </td>\n",
              "            <td style=\"padding: 0 0.5em 0 0.5em; text-align: left; border: none;\">\n",
              "                Year_of_Release\n",
              "            </td>\n",
              "        </tr>\n",
              "    \n",
              "        <tr style=\"background-color: hsl(120, 100.00%, 97.96%); border: none;\">\n",
              "            <td style=\"padding: 0 1em 0 0.5em; text-align: right; border: none;\">\n",
              "                0.0079\n",
              "                \n",
              "                    &plusmn; 0.0050\n",
              "                \n",
              "            </td>\n",
              "            <td style=\"padding: 0 0.5em 0 0.5em; text-align: left; border: none;\">\n",
              "                Publisher\n",
              "            </td>\n",
              "        </tr>\n",
              "    \n",
              "        <tr style=\"background-color: hsl(120, 100.00%, 98.05%); border: none;\">\n",
              "            <td style=\"padding: 0 1em 0 0.5em; text-align: right; border: none;\">\n",
              "                0.0075\n",
              "                \n",
              "                    &plusmn; 0.0060\n",
              "                \n",
              "            </td>\n",
              "            <td style=\"padding: 0 0.5em 0 0.5em; text-align: left; border: none;\">\n",
              "                Genre\n",
              "            </td>\n",
              "        </tr>\n",
              "    \n",
              "        <tr style=\"background-color: hsl(120, 100.00%, 99.13%); border: none;\">\n",
              "            <td style=\"padding: 0 1em 0 0.5em; text-align: right; border: none;\">\n",
              "                0.0023\n",
              "                \n",
              "                    &plusmn; 0.0038\n",
              "                \n",
              "            </td>\n",
              "            <td style=\"padding: 0 0.5em 0 0.5em; text-align: left; border: none;\">\n",
              "                Platform\n",
              "            </td>\n",
              "        </tr>\n",
              "    \n",
              "    \n",
              "    </tbody>\n",
              "</table>\n",
              "    \n",
              "\n",
              "    \n",
              "\n",
              "\n",
              "    \n",
              "\n",
              "    \n",
              "\n",
              "    \n",
              "\n",
              "    \n",
              "\n",
              "    \n",
              "\n",
              "    \n",
              "\n",
              "\n",
              "\n"
            ],
            "text/plain": [
              "<IPython.core.display.HTML object>"
            ]
          },
          "metadata": {
            "tags": []
          },
          "execution_count": 8
        }
      ]
    },
    {
      "cell_type": "code",
      "metadata": {
        "scrolled": false,
        "id": "QOyJfYOohIOF",
        "outputId": "298d4a17-e9ec-4d6f-c371-e9914cde4d60"
      },
      "source": [
        "#Trying XGBoost\n",
        "from xgboost import XGBClassifier\n",
        "encoder = ce.OrdinalEncoder()\n",
        "X_train_encoded = encoder.fit_transform(X_train)\n",
        "X_val_encoded = encoder.transform(X_val)\n",
        "model = XGBClassifier(n_estimators=500,max_depth=6,learning_rate=0.5,n_jobs=4)\n",
        "eval_set = [(X_train_encoded,y_train),(X_val_encoded,y_val)]\n",
        "model.fit(X_train_encoded,y_train,eval_set=eval_set,eval_metric='logloss',early_stopping_rounds=25)"
      ],
      "execution_count": null,
      "outputs": [
        {
          "output_type": "stream",
          "text": [
            "[0]\tvalidation_0-logloss:0.48435\tvalidation_1-logloss:0.49006\n",
            "[1]\tvalidation_0-logloss:0.40647\tvalidation_1-logloss:0.42088\n",
            "[2]\tvalidation_0-logloss:0.37192\tvalidation_1-logloss:0.39040\n",
            "[3]\tvalidation_0-logloss:0.35335\tvalidation_1-logloss:0.37836\n",
            "[4]\tvalidation_0-logloss:0.34119\tvalidation_1-logloss:0.37002\n",
            "[5]\tvalidation_0-logloss:0.33370\tvalidation_1-logloss:0.36391\n",
            "[6]\tvalidation_0-logloss:0.32671\tvalidation_1-logloss:0.36344\n",
            "[7]\tvalidation_0-logloss:0.32165\tvalidation_1-logloss:0.36067\n",
            "[8]\tvalidation_0-logloss:0.31575\tvalidation_1-logloss:0.35924\n",
            "[9]\tvalidation_0-logloss:0.31116\tvalidation_1-logloss:0.35957\n",
            "[10]\tvalidation_0-logloss:0.30831\tvalidation_1-logloss:0.35883\n",
            "[11]\tvalidation_0-logloss:0.30549\tvalidation_1-logloss:0.35954\n",
            "[12]\tvalidation_0-logloss:0.30228\tvalidation_1-logloss:0.36004\n",
            "[13]\tvalidation_0-logloss:0.29796\tvalidation_1-logloss:0.36006\n",
            "[14]\tvalidation_0-logloss:0.29501\tvalidation_1-logloss:0.36002\n",
            "[15]\tvalidation_0-logloss:0.29332\tvalidation_1-logloss:0.35944\n",
            "[16]\tvalidation_0-logloss:0.29193\tvalidation_1-logloss:0.35914\n",
            "[17]\tvalidation_0-logloss:0.28837\tvalidation_1-logloss:0.35845\n",
            "[18]\tvalidation_0-logloss:0.28603\tvalidation_1-logloss:0.35982\n",
            "[19]\tvalidation_0-logloss:0.28494\tvalidation_1-logloss:0.35992\n",
            "[20]\tvalidation_0-logloss:0.28166\tvalidation_1-logloss:0.36141\n",
            "[21]\tvalidation_0-logloss:0.27996\tvalidation_1-logloss:0.36153\n",
            "[22]\tvalidation_0-logloss:0.27946\tvalidation_1-logloss:0.36134\n",
            "[23]\tvalidation_0-logloss:0.27518\tvalidation_1-logloss:0.36084\n",
            "[24]\tvalidation_0-logloss:0.27242\tvalidation_1-logloss:0.36150\n",
            "[25]\tvalidation_0-logloss:0.27019\tvalidation_1-logloss:0.36161\n",
            "[26]\tvalidation_0-logloss:0.26671\tvalidation_1-logloss:0.36159\n",
            "[27]\tvalidation_0-logloss:0.26605\tvalidation_1-logloss:0.36186\n",
            "[28]\tvalidation_0-logloss:0.26537\tvalidation_1-logloss:0.36162\n",
            "[29]\tvalidation_0-logloss:0.26427\tvalidation_1-logloss:0.36133\n",
            "[30]\tvalidation_0-logloss:0.26391\tvalidation_1-logloss:0.36136\n",
            "[31]\tvalidation_0-logloss:0.26356\tvalidation_1-logloss:0.36153\n",
            "[32]\tvalidation_0-logloss:0.26272\tvalidation_1-logloss:0.36200\n",
            "[33]\tvalidation_0-logloss:0.26116\tvalidation_1-logloss:0.36234\n",
            "[34]\tvalidation_0-logloss:0.25982\tvalidation_1-logloss:0.36233\n",
            "[35]\tvalidation_0-logloss:0.25716\tvalidation_1-logloss:0.36344\n",
            "[36]\tvalidation_0-logloss:0.25432\tvalidation_1-logloss:0.36537\n",
            "[37]\tvalidation_0-logloss:0.25217\tvalidation_1-logloss:0.36612\n",
            "[38]\tvalidation_0-logloss:0.24982\tvalidation_1-logloss:0.36562\n",
            "[39]\tvalidation_0-logloss:0.24626\tvalidation_1-logloss:0.36576\n",
            "[40]\tvalidation_0-logloss:0.24484\tvalidation_1-logloss:0.36648\n",
            "[41]\tvalidation_0-logloss:0.24415\tvalidation_1-logloss:0.36697\n"
          ],
          "name": "stdout"
        },
        {
          "output_type": "execute_result",
          "data": {
            "text/plain": [
              "XGBClassifier(base_score=0.5, booster='gbtree', colsample_bylevel=1,\n",
              "              colsample_bynode=1, colsample_bytree=1, gamma=0, gpu_id=-1,\n",
              "              importance_type='gain', interaction_constraints='',\n",
              "              learning_rate=0.5, max_delta_step=0, max_depth=6,\n",
              "              min_child_weight=1, missing=nan, monotone_constraints='()',\n",
              "              n_estimators=500, n_jobs=4, num_parallel_tree=1, random_state=0,\n",
              "              reg_alpha=0, reg_lambda=1, scale_pos_weight=1, subsample=1,\n",
              "              tree_method='exact', validate_parameters=1, verbosity=None)"
            ]
          },
          "metadata": {
            "tags": []
          },
          "execution_count": 23
        }
      ]
    },
    {
      "cell_type": "code",
      "metadata": {
        "scrolled": true,
        "id": "eBN7rbuQhIOF",
        "outputId": "872a0404-01d8-49d1-d76b-294df2a13002"
      },
      "source": [
        "#Ploting Log loss for validation_0 and validation_1\n",
        "%matplotlib inline\n",
        "import matplotlib.pyplot as plt\n",
        "results = model.evals_result()\n",
        "train_error = results['validation_0']['logloss']\n",
        "val_error = results['validation_1']['logloss']\n",
        "epoch = list(range(1, len(train_error)+1))\n",
        "plt.plot(epoch, train_error, label='Train')\n",
        "plt.plot(epoch, val_error, label='Validation')\n",
        "plt.ylabel('Log Loss')\n",
        "plt.xlabel('Model Complexity (n_estimators)')\n",
        "plt.title('Validation Curve for this XGBoost model')\n",
        "plt.ylim((0.20, 0.50))\n",
        "plt.legend();"
      ],
      "execution_count": null,
      "outputs": [
        {
          "output_type": "display_data",
          "data": {
            "image/png": "[encoded data removed]",
            "text/plain": [
              "<Figure size 432x288 with 1 Axes>"
            ]
          },
          "metadata": {
            "tags": [],
            "needs_background": "light"
          }
        }
      ]
    },
    {
      "cell_type": "code",
      "metadata": {
        "id": "guHeqFDihIOF"
      },
      "source": [
        ""
      ],
      "execution_count": null,
      "outputs": []
    }
  ]
}